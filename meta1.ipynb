{
  "nbformat": 4,
  "nbformat_minor": 0,
  "metadata": {
    "colab": {
      "provenance": [],
      "authorship_tag": "ABX9TyMwAhNL8+myfM/4GZWBJIPY",
      "include_colab_link": true
    },
    "kernelspec": {
      "name": "python3",
      "display_name": "Python 3"
    },
    "language_info": {
      "name": "python"
    }
  },
  "cells": [
    {
      "cell_type": "markdown",
      "metadata": {
        "id": "view-in-github",
        "colab_type": "text"
      },
      "source": [
        "<a href=\"https://colab.research.google.com/github/ELGHAZI-85/Tasks-Scheduling/blob/main/meta1.ipynb\" target=\"_parent\"><img src=\"https://colab.research.google.com/assets/colab-badge.svg\" alt=\"Open In Colab\"/></a>"
      ]
    },
    {
      "cell_type": "code",
      "execution_count": null,
      "metadata": {
        "id": "20FN0vI_ECs8"
      },
      "outputs": [],
      "source": [
        "def meta1(seq,p,d):\n",
        "    from random import randint\n",
        "    import time\n",
        "    n=len(seq)\n",
        "    def retard(x):\n",
        "        pPrec=0\n",
        "        u=0\n",
        "        for i in x:\n",
        "            pPrec+=p[i-1]\n",
        "            if pPrec>d[i-1]:\n",
        "                u+=1\n",
        "            else:\n",
        "                u+=0\n",
        "        return u\n",
        "\n",
        "    def InsertionOperator(l):\n",
        "        n=len(l)\n",
        "        x=[]\n",
        "        i,j=0,0\n",
        "        while i==j:\n",
        "            i=randint(0,n-1)\n",
        "            j=randint(0,n-1)\n",
        "        if i<j:#décalage à gauche\n",
        "            x=(l[0:i]+l[i+1:j+1]+l[i:i+1]+l[j+1:n+1])\n",
        "        else:#décalage à droite\n",
        "            x=(l[0:j]+l[i:i+1]+l[j:i]+l[i+1:n+1])\n",
        "        return x\n",
        "\n",
        "    def SwapOperator(l):\n",
        "        n,i,j=len(l),0,0\n",
        "        x=l.copy()\n",
        "        while i==j:\n",
        "            i=randint(0,n-1)\n",
        "            j=randint(0,n-1)\n",
        "        x[i],x[j]=x[j],x[i]\n",
        "        return x\n",
        "\n",
        "    def opt2OperatorF(l):\n",
        "        n=len(l)\n",
        "        i=randint(0,n-4) \n",
        "        j=randint(i+2,n-2) \n",
        "        new_seq=l[0:i+1]+l[j:i:-1]+l[j+1:n]\n",
        "        return new_seq\n",
        "\n",
        "\n",
        "    structV=[opt2OperatorF,SwapOperator,InsertionOperator]\n",
        "\n",
        "    #trier les tâches en fonction de leur date d'échéance.\n",
        "    def EDD(x):\n",
        "        return [k for k in sorted(x, key=lambda k: d[k-1])]\n",
        "    def VND(s,end):\n",
        "        l=0\n",
        "        x=s.copy()\n",
        "        start2=time.time()\n",
        "        while (l<3 and time.time()-start2 < len(seq)*end):\n",
        "            x1=structV[l](x)\n",
        "            if retard(x1)<retard(x):\n",
        "                x=x1[:]\n",
        "                l=0\n",
        "            else:\n",
        "                l+=1\n",
        "        return x\n",
        "    \n",
        "    def GVNS(seq,end):\n",
        "        start=time.time()\n",
        "        x=seq.copy()\n",
        "        \n",
        "        while time.time()-start< len(seq)*end:\n",
        "                k=0        \n",
        "                while k<3:\n",
        "                    x1=structV[k](x)#Shaking\n",
        "                    x2=VND(x1,0.5)#The best neighbor\n",
        "                    if retard(x2)<retard(x):\n",
        "                        x=x2.copy()\n",
        "                        k=0\n",
        "                    else:\n",
        "                        k+=1\n",
        "        return x\n",
        "\n",
        "    seq = EDD(seq)\n",
        "    seq = VND(seq, 0.1)#optimisation de la solution initiale\n",
        "    x=GVNS(seq, 0.1)\n",
        "    return [x,retard(x),3]\n"
      ]
    }
  ]
}